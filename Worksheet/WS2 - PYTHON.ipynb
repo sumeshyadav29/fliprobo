{
 "cells": [
  {
   "cell_type": "code",
   "execution_count": 19,
   "id": "308c4423",
   "metadata": {},
   "outputs": [
    {
     "name": "stdout",
     "output_type": "stream",
     "text": [
      "Enter coefficient of x^2 (a): 2\n",
      "Enter coefficient of x (b): 5\n",
      "Enter constant (c): 4\n",
      "The equation has no real roots.\n"
     ]
    }
   ],
   "source": [
    "import math\n",
    "\n",
    "a = float(input(\"Enter coefficient of x^2 (a): \"))\n",
    "b = float(input(\"Enter coefficient of x (b): \"))\n",
    "c = float(input(\"Enter constant (c): \"))\n",
    "\n",
    "if a == 0:\n",
    "    print(\"Error: a cannot be equal to 0.\")\n",
    "else:\n",
    "    # calculate discriminant\n",
    "    disc = b**2 - 4*a*c\n",
    "\n",
    "    if disc > 0:\n",
    "        # two real roots\n",
    "        root1 = (-b + math.sqrt(disc)) / (2*a)\n",
    "        root2 = (-b - math.sqrt(disc)) / (2*a)\n",
    "        print(\"The equation has two real roots: {:.2f} and {:.2f}\".format(root1, root2))\n",
    "    elif disc == 0:\n",
    "        # one real root\n",
    "        root = -b / (2*a)\n",
    "        print(\"The equation has one real root: {:.2f}\".format(root))\n",
    "    else:\n",
    "        # no real roots\n",
    "        print(\"The equation has no real roots.\")\n"
   ]
  },
  {
   "cell_type": "code",
   "execution_count": 20,
   "id": "8f188a59",
   "metadata": {},
   "outputs": [
    {
     "name": "stdout",
     "output_type": "stream",
     "text": [
      "Enter the value of n: 15\n",
      "Sum of first 15 natural numbers is: 120\n"
     ]
    }
   ],
   "source": [
    "n = int(input(\"Enter the value of n: \"))\n",
    "sum = int((n * (n + 1)) / 2)\n",
    "print(\"Sum of first\", n, \"natural numbers is:\", sum)"
   ]
  }
 ],
 "metadata": {
  "kernelspec": {
   "display_name": "Python 3 (ipykernel)",
   "language": "python",
   "name": "python3"
  },
  "language_info": {
   "codemirror_mode": {
    "name": "ipython",
    "version": 3
   },
   "file_extension": ".py",
   "mimetype": "text/x-python",
   "name": "python",
   "nbconvert_exporter": "python",
   "pygments_lexer": "ipython3",
   "version": "3.9.12"
  }
 },
 "nbformat": 4,
 "nbformat_minor": 5
}
