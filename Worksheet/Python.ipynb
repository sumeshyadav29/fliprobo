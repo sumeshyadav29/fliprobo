{
 "cells": [
  {
   "cell_type": "markdown",
   "id": "7cd35869",
   "metadata": {},
   "source": [
    "### 11. Write a python program to find the factorial of a number."
   ]
  },
  {
   "cell_type": "code",
   "execution_count": 1,
   "id": "18d312dc",
   "metadata": {},
   "outputs": [
    {
     "name": "stdout",
     "output_type": "stream",
     "text": [
      "Factorial of 5 is 120\n"
     ]
    }
   ],
   "source": [
    "def factorial(n):\n",
    "    return 1 if (n==1 or n==0) else n*factorial(n-1)\n",
    "\n",
    "num = 5\n",
    "print(\"Factorial of\", num,  \"is\",factorial(num))"
   ]
  },
  {
   "cell_type": "markdown",
   "id": "923ffcb1",
   "metadata": {},
   "source": [
    "### 12. Write a python program to find whether a number is prime or composite."
   ]
  },
  {
   "cell_type": "code",
   "execution_count": 2,
   "id": "40056fea",
   "metadata": {},
   "outputs": [
    {
     "name": "stdout",
     "output_type": "stream",
     "text": [
      "Enter any number 4\n",
      "4 is a Composite number\n"
     ]
    }
   ],
   "source": [
    "n = int(input(\"Enter any number \"))\n",
    "if ( n==0 or  n==1):\n",
    "    printf(n,\"Numbe ris neither prime nor composite\")\n",
    "elif n>1:\n",
    "    for i in range(2,n):\n",
    "        if( n%i == 0):\n",
    "            print(n, \"is a Composite number\")\n",
    "            break\n",
    "    else:\n",
    "        print(n,\"is a Prime number\")"
   ]
  },
  {
   "cell_type": "markdown",
   "id": "611736c5",
   "metadata": {},
   "source": [
    "### 13. Write a python program to check whether a given string is palindrome or not."
   ]
  },
  {
   "cell_type": "code",
   "execution_count": 3,
   "id": "1c8450f6",
   "metadata": {},
   "outputs": [
    {
     "name": "stdout",
     "output_type": "stream",
     "text": [
      "Yes\n"
     ]
    }
   ],
   "source": [
    "def isPalindrome(s):\n",
    "    return s == s[::-1]\n",
    "    \n",
    "    \n",
    "s = \"malayalam\"\n",
    "ans = isPalindrome(s)\n",
    "\n",
    "if ans:\n",
    "    print(\"Yes\")\n",
    "    \n",
    "else:\n",
    "    print(\"No\")"
   ]
  },
  {
   "cell_type": "markdown",
   "id": "1d14a90e",
   "metadata": {},
   "source": [
    "### 14. Write a Python program to get the third side of right-angled triangle from two given sides."
   ]
  },
  {
   "cell_type": "code",
   "execution_count": 5,
   "id": "e5b4f949",
   "metadata": {},
   "outputs": [
    {
     "name": "stdout",
     "output_type": "stream",
     "text": [
      "Enter any number : 3\n",
      "Enter any number : 4\n",
      "The hypotenuse of the triangle is = 5.0\n"
     ]
    }
   ],
   "source": [
    "a = int(input(\"Enter any number : \"))\n",
    "opposite_side = a\n",
    "\n",
    "b =int(input(\"Enter any number : \"))\n",
    "adjacent_side= b\n",
    "\n",
    "d = (a**2+ b**2)\n",
    "c= d**(1/2)\n",
    "print(\"The hypotenuse of the triangle is =\", c)"
   ]
  },
  {
   "cell_type": "markdown",
   "id": "3081866e",
   "metadata": {},
   "source": [
    "### 15. Write a python program to print the frequency of each of the characters present in a given string."
   ]
  },
  {
   "cell_type": "code",
   "execution_count": 6,
   "id": "2b745c0e",
   "metadata": {},
   "outputs": [
    {
     "name": "stdout",
     "output_type": "stream",
     "text": [
      "Count all the characters in Datatrained is :\n",
      " Counter({'a': 3, 'd': 2, 't': 2, 'r': 1, 'i': 1, 'n': 1, 'e': 1})\n"
     ]
    },
    {
     "data": {
      "text/plain": [
       "Counter({'d': 2, 'a': 3, 't': 2, 'r': 1, 'i': 1, 'n': 1, 'e': 1})"
      ]
     },
     "execution_count": 6,
     "metadata": {},
     "output_type": "execute_result"
    }
   ],
   "source": [
    "from collections import Counter \n",
    "test_str = \"datatrained\"\n",
    "\n",
    "res = Counter(test_str)\n",
    "print(\"Count all the characters in Datatrained is :\\n\", + (res))\n",
    "res"
   ]
  }
 ],
 "metadata": {
  "kernelspec": {
   "display_name": "Python 3 (ipykernel)",
   "language": "python",
   "name": "python3"
  },
  "language_info": {
   "codemirror_mode": {
    "name": "ipython",
    "version": 3
   },
   "file_extension": ".py",
   "mimetype": "text/x-python",
   "name": "python",
   "nbconvert_exporter": "python",
   "pygments_lexer": "ipython3",
   "version": "3.9.12"
  }
 },
 "nbformat": 4,
 "nbformat_minor": 5
}
